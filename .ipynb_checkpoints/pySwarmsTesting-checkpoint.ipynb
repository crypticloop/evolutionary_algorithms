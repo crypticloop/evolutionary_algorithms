{
 "cells": [
  {
   "cell_type": "code",
   "execution_count": 4,
   "metadata": {},
   "outputs": [],
   "source": [
    "import sys\n",
    "import pyswarms as ps\n",
    "import numpy as np\n",
    "from pyswarms.utils.functions import single_obj as fx"
   ]
  },
  {
   "cell_type": "code",
   "execution_count": 5,
   "metadata": {},
   "outputs": [
    {
     "name": "stdout",
     "output_type": "stream",
     "text": [
      "Running on Python version: 3.7.0 (default, Jun 28 2018, 07:39:16) \n",
      "[Clang 4.0.1 (tags/RELEASE_401/final)]\n"
     ]
    }
   ],
   "source": [
    "print('Running on Python version: {}'.format(sys.version))"
   ]
  },
  {
   "cell_type": "markdown",
   "metadata": {},
   "source": [
    "Setting up\n",
    "=====\n",
    "\n",
    "There are three steps to a basic optimisation:\n",
    "* Set hyperparamaters to configure swarm as `dict`\n",
    "* Create instance of optimiser by passing `dict` with necessary arguments\n",
    "* Call `optimize()` and store optimal cost and position\n",
    "\n",
    "Optimize returns a `tuple`, one of which is cost & position at optimisation"
   ]
  },
  {
   "cell_type": "code",
   "execution_count": 6,
   "metadata": {},
   "outputs": [],
   "source": [
    "options = {\n",
    "    'c1':0.5,\n",
    "    'c2': 0.3,\n",
    "    'w': 0.9\n",
    "}"
   ]
  },
  {
   "cell_type": "code",
   "execution_count": 7,
   "metadata": {},
   "outputs": [
    {
     "name": "stderr",
     "output_type": "stream",
     "text": [
      "INFO:pyswarms.backend.topology.base:Running on `dynamic` topology, neighbors are updated regularly.Set `static=True` for fixed neighbors.\n"
     ]
    }
   ],
   "source": [
    "optimiser = ps.single.GlobalBestPSO(n_particles = 10, dimensions = 2, options=options)"
   ]
  },
  {
   "cell_type": "code",
   "execution_count": 9,
   "metadata": {},
   "outputs": [
    {
     "name": "stderr",
     "output_type": "stream",
     "text": [
      "INFO:pyswarms.single.global_best:Arguments Passed to Objective Function: {}\n",
      "INFO:pyswarms.single.global_best:Iteration 1/1000, cost: 0.17857368253855627\n",
      "INFO:pyswarms.single.global_best:Iteration 101/1000, cost: 1.0428656361432315e-07\n",
      "INFO:pyswarms.single.global_best:Iteration 201/1000, cost: 3.2322871722336485e-11\n",
      "INFO:pyswarms.single.global_best:Iteration 301/1000, cost: 1.944074448888956e-17\n",
      "INFO:pyswarms.single.global_best:Iteration 401/1000, cost: 2.6163612869231073e-20\n",
      "INFO:pyswarms.single.global_best:Iteration 501/1000, cost: 9.266178359609329e-25\n",
      "INFO:pyswarms.single.global_best:Iteration 601/1000, cost: 1.597495433867251e-28\n",
      "INFO:pyswarms.single.global_best:Iteration 701/1000, cost: 1.823889806527921e-30\n",
      "INFO:pyswarms.single.global_best:Iteration 801/1000, cost: 1.3323064667872061e-36\n",
      "INFO:pyswarms.single.global_best:Iteration 901/1000, cost: 6.259678944146775e-39\n",
      "INFO:pyswarms.single.global_best:================================\n",
      "Optimization finished!\n",
      "Final cost: 0.0000\n",
      "Best value: [8.226582527176654e-22, 8.57906856977847e-23]\n",
      "\n"
     ]
    }
   ],
   "source": [
    "cost, pos = optimiser.optimize(fx.sphere_func, print_step=100, iters=1000, verbose=3)"
   ]
  },
  {
   "cell_type": "code",
   "execution_count": null,
   "metadata": {},
   "outputs": [],
   "source": []
  }
 ],
 "metadata": {
  "kernelspec": {
   "display_name": "Python 3",
   "language": "python",
   "name": "python3"
  },
  "language_info": {
   "codemirror_mode": {
    "name": "ipython",
    "version": 3
   },
   "file_extension": ".py",
   "mimetype": "text/x-python",
   "name": "python",
   "nbconvert_exporter": "python",
   "pygments_lexer": "ipython3",
   "version": "3.7.0"
  }
 },
 "nbformat": 4,
 "nbformat_minor": 2
}
